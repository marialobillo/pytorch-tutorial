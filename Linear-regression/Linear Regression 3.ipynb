{
 "cells": [
  {
   "cell_type": "code",
   "execution_count": 1,
   "metadata": {},
   "outputs": [],
   "source": [
    "import torch\n",
    "import torch.nn as nn\n",
    "import matplotlib.pyplot as plt\n",
    "import numpy as np"
   ]
  },
  {
   "cell_type": "code",
   "execution_count": 2,
   "metadata": {},
   "outputs": [
    {
     "data": {
      "text/plain": [
       "Text(0.5, 0, 'x')"
      ]
     },
     "execution_count": 2,
     "metadata": {},
     "output_type": "execute_result"
    },
    {
     "data": {
      "image/png": "[encoded data removed]",
      "text/plain": [
       "<Figure size 432x288 with 1 Axes>"
      ]
     },
     "metadata": {
      "needs_background": "light"
     },
     "output_type": "display_data"
    }
   ],
   "source": [
    "X = torch.randn(100, 1)*10\n",
    "y = X + 3*torch.randn(100, 1)\n",
    "plt.plot(X.numpy(), y.numpy(), 'o')\n",
    "plt.ylabel('y')\n",
    "plt.xlabel('x')"
   ]
  },
  {
   "cell_type": "code",
   "execution_count": 3,
   "metadata": {},
   "outputs": [],
   "source": [
    "class LR(nn.Module):\n",
    "    def __init__(self, input_size, output_size):\n",
    "        super().__init__()\n",
    "        self.linear = nn.Linear(input_size, output_size)\n",
    "    def forward(self, x):\n",
    "        pred = self.linear(x)\n",
    "        return pred"
   ]
  },
  {
   "cell_type": "code",
   "execution_count": 4,
   "metadata": {},
   "outputs": [
    {
     "name": "stdout",
     "output_type": "stream",
     "text": [
      "LR(\n",
      "  (linear): Linear(in_features=1, out_features=1, bias=True)\n",
      ")\n"
     ]
    }
   ],
   "source": [
    "torch.manual_seed(1)\n",
    "model = LR(1, 1)\n",
    "print(model)"
   ]
  },
  {
   "cell_type": "code",
   "execution_count": 5,
   "metadata": {},
   "outputs": [],
   "source": [
    "[w, b] = model.parameters()\n",
    "def get_params():\n",
    "    return (w[0][0].item(), b[0].item())"
   ]
  },
  {
   "cell_type": "code",
   "execution_count": 6,
   "metadata": {},
   "outputs": [],
   "source": [
    "def plot_fit(title):\n",
    "    plt.title = title\n",
    "    w1, b1 = get_params()\n",
    "    x1 = np.array([-30, 30])\n",
    "    y1 = w1*x1 + b1\n",
    "    plt.plot(x1, y1, 'r')\n",
    "    plt.scatter(X, y)\n",
    "    plt.show()\n"
   ]
  },
  {
   "cell_type": "code",
   "execution_count": 7,
   "metadata": {},
   "outputs": [
    {
     "data": {
      "image/png": "[encoded data removed]",
      "text/plain": [
       "<Figure size 432x288 with 1 Axes>"
      ]
     },
     "metadata": {
      "needs_background": "light"
     },
     "output_type": "display_data"
    }
   ],
   "source": [
    "plot_fit('Initial Model')"
   ]
  },
  {
   "cell_type": "code",
   "execution_count": 8,
   "metadata": {},
   "outputs": [],
   "source": [
    "criterion = nn.MSELoss()\n",
    "optimizer = torch.optim.SGD(model.parameters(), lr = 0.01)"
   ]
  },
  {
   "cell_type": "code",
   "execution_count": 9,
   "metadata": {},
   "outputs": [
    {
     "name": "stdout",
     "output_type": "stream",
     "text": [
      "epoch: 0 loss: 28.62845802307129\n",
      "epoch: 1 loss: 15.845559120178223\n",
      "epoch: 2 loss: 11.597323417663574\n",
      "epoch: 3 loss: 10.18156909942627\n",
      "epoch: 4 loss: 9.70601749420166\n",
      "epoch: 5 loss: 9.542695045471191\n",
      "epoch: 6 loss: 9.483200073242188\n",
      "epoch: 7 loss: 9.458365440368652\n",
      "epoch: 8 loss: 9.445230484008789\n",
      "epoch: 9 loss: 9.436165809631348\n",
      "epoch: 10 loss: 9.428635597229004\n",
      "epoch: 11 loss: 9.42178726196289\n",
      "epoch: 12 loss: 9.415335655212402\n",
      "epoch: 13 loss: 9.409175872802734\n",
      "epoch: 14 loss: 9.403268814086914\n",
      "epoch: 15 loss: 9.397594451904297\n",
      "epoch: 16 loss: 9.392142295837402\n",
      "epoch: 17 loss: 9.386899948120117\n",
      "epoch: 18 loss: 9.381861686706543\n",
      "epoch: 19 loss: 9.377017974853516\n",
      "epoch: 20 loss: 9.372361183166504\n",
      "epoch: 21 loss: 9.367884635925293\n",
      "epoch: 22 loss: 9.363580703735352\n",
      "epoch: 23 loss: 9.359444618225098\n",
      "epoch: 24 loss: 9.355466842651367\n",
      "epoch: 25 loss: 9.351643562316895\n",
      "epoch: 26 loss: 9.347969055175781\n",
      "epoch: 27 loss: 9.34443473815918\n",
      "epoch: 28 loss: 9.341038703918457\n",
      "epoch: 29 loss: 9.337772369384766\n",
      "epoch: 30 loss: 9.334632873535156\n",
      "epoch: 31 loss: 9.331616401672363\n",
      "epoch: 32 loss: 9.328715324401855\n",
      "epoch: 33 loss: 9.325925827026367\n",
      "epoch: 34 loss: 9.32324504852295\n",
      "epoch: 35 loss: 9.32066822052002\n",
      "epoch: 36 loss: 9.318190574645996\n",
      "epoch: 37 loss: 9.315808296203613\n",
      "epoch: 38 loss: 9.313518524169922\n",
      "epoch: 39 loss: 9.311317443847656\n",
      "epoch: 40 loss: 9.309200286865234\n",
      "epoch: 41 loss: 9.30716609954834\n",
      "epoch: 42 loss: 9.30521011352539\n",
      "epoch: 43 loss: 9.303330421447754\n",
      "epoch: 44 loss: 9.301523208618164\n",
      "epoch: 45 loss: 9.299784660339355\n",
      "epoch: 46 loss: 9.298114776611328\n",
      "epoch: 47 loss: 9.296509742736816\n",
      "epoch: 48 loss: 9.294966697692871\n",
      "epoch: 49 loss: 9.293481826782227\n",
      "epoch: 50 loss: 9.292055130004883\n",
      "epoch: 51 loss: 9.290684700012207\n",
      "epoch: 52 loss: 9.289365768432617\n",
      "epoch: 53 loss: 9.288098335266113\n",
      "epoch: 54 loss: 9.286880493164062\n",
      "epoch: 55 loss: 9.2857084274292\n",
      "epoch: 56 loss: 9.28458309173584\n",
      "epoch: 57 loss: 9.283499717712402\n",
      "epoch: 58 loss: 9.28246021270752\n",
      "epoch: 59 loss: 9.28145980834961\n",
      "epoch: 60 loss: 9.280496597290039\n",
      "epoch: 61 loss: 9.279573440551758\n",
      "epoch: 62 loss: 9.278684616088867\n",
      "epoch: 63 loss: 9.27782917022705\n",
      "epoch: 64 loss: 9.277008056640625\n",
      "epoch: 65 loss: 9.27621841430664\n",
      "epoch: 66 loss: 9.275460243225098\n",
      "epoch: 67 loss: 9.274730682373047\n",
      "epoch: 68 loss: 9.274028778076172\n",
      "epoch: 69 loss: 9.273354530334473\n",
      "epoch: 70 loss: 9.272706031799316\n",
      "epoch: 71 loss: 9.272082328796387\n",
      "epoch: 72 loss: 9.271483421325684\n",
      "epoch: 73 loss: 9.270907402038574\n",
      "epoch: 74 loss: 9.270353317260742\n",
      "epoch: 75 loss: 9.269821166992188\n",
      "epoch: 76 loss: 9.269309997558594\n",
      "epoch: 77 loss: 9.268817901611328\n",
      "epoch: 78 loss: 9.26834487915039\n",
      "epoch: 79 loss: 9.267890930175781\n",
      "epoch: 80 loss: 9.26745319366455\n",
      "epoch: 81 loss: 9.267033576965332\n",
      "epoch: 82 loss: 9.266629219055176\n",
      "epoch: 83 loss: 9.266241073608398\n",
      "epoch: 84 loss: 9.265868186950684\n",
      "epoch: 85 loss: 9.265508651733398\n",
      "epoch: 86 loss: 9.26516342163086\n",
      "epoch: 87 loss: 9.264832496643066\n",
      "epoch: 88 loss: 9.26451301574707\n",
      "epoch: 89 loss: 9.264206886291504\n",
      "epoch: 90 loss: 9.263912200927734\n",
      "epoch: 91 loss: 9.263628959655762\n",
      "epoch: 92 loss: 9.263357162475586\n",
      "epoch: 93 loss: 9.263094902038574\n",
      "epoch: 94 loss: 9.262843132019043\n",
      "epoch: 95 loss: 9.262601852416992\n",
      "epoch: 96 loss: 9.262369155883789\n",
      "epoch: 97 loss: 9.26214599609375\n",
      "epoch: 98 loss: 9.261931419372559\n",
      "epoch: 99 loss: 9.261724472045898\n",
      "epoch: 100 loss: 9.26152515411377\n",
      "epoch: 101 loss: 9.261334419250488\n",
      "epoch: 102 loss: 9.261151313781738\n",
      "epoch: 103 loss: 9.260974884033203\n",
      "epoch: 104 loss: 9.260805130004883\n",
      "epoch: 105 loss: 9.260642051696777\n",
      "epoch: 106 loss: 9.26048469543457\n",
      "epoch: 107 loss: 9.260334014892578\n",
      "epoch: 108 loss: 9.260189056396484\n",
      "epoch: 109 loss: 9.260050773620605\n",
      "epoch: 110 loss: 9.259916305541992\n",
      "epoch: 111 loss: 9.259787559509277\n",
      "epoch: 112 loss: 9.259663581848145\n",
      "epoch: 113 loss: 9.25954532623291\n",
      "epoch: 114 loss: 9.259430885314941\n",
      "epoch: 115 loss: 9.259320259094238\n",
      "epoch: 116 loss: 9.259215354919434\n",
      "epoch: 117 loss: 9.259113311767578\n",
      "epoch: 118 loss: 9.259016036987305\n",
      "epoch: 119 loss: 9.25892162322998\n",
      "epoch: 120 loss: 9.258831977844238\n",
      "epoch: 121 loss: 9.258744239807129\n",
      "epoch: 122 loss: 9.258661270141602\n",
      "epoch: 123 loss: 9.258581161499023\n",
      "epoch: 124 loss: 9.258503913879395\n",
      "epoch: 125 loss: 9.258430480957031\n",
      "epoch: 126 loss: 9.2583589553833\n",
      "epoch: 127 loss: 9.25829029083252\n",
      "epoch: 128 loss: 9.258224487304688\n",
      "epoch: 129 loss: 9.258161544799805\n",
      "epoch: 130 loss: 9.258100509643555\n",
      "epoch: 131 loss: 9.258042335510254\n",
      "epoch: 132 loss: 9.25798511505127\n",
      "epoch: 133 loss: 9.257930755615234\n",
      "epoch: 134 loss: 9.257880210876465\n",
      "epoch: 135 loss: 9.257829666137695\n",
      "epoch: 136 loss: 9.257781982421875\n",
      "epoch: 137 loss: 9.257735252380371\n",
      "epoch: 138 loss: 9.257691383361816\n",
      "epoch: 139 loss: 9.257648468017578\n",
      "epoch: 140 loss: 9.257607460021973\n",
      "epoch: 141 loss: 9.257568359375\n",
      "epoch: 142 loss: 9.257530212402344\n",
      "epoch: 143 loss: 9.257493019104004\n",
      "epoch: 144 loss: 9.257458686828613\n",
      "epoch: 145 loss: 9.257425308227539\n",
      "epoch: 146 loss: 9.257392883300781\n",
      "epoch: 147 loss: 9.257362365722656\n",
      "epoch: 148 loss: 9.257331848144531\n",
      "epoch: 149 loss: 9.257302284240723\n",
      "epoch: 150 loss: 9.257274627685547\n",
      "epoch: 151 loss: 9.257248878479004\n",
      "epoch: 152 loss: 9.257222175598145\n",
      "epoch: 153 loss: 9.257198333740234\n",
      "epoch: 154 loss: 9.257174491882324\n",
      "epoch: 155 loss: 9.25715160369873\n",
      "epoch: 156 loss: 9.25713062286377\n",
      "epoch: 157 loss: 9.257108688354492\n",
      "epoch: 158 loss: 9.257088661193848\n",
      "epoch: 159 loss: 9.25706958770752\n",
      "epoch: 160 loss: 9.257050514221191\n",
      "epoch: 161 loss: 9.25703239440918\n",
      "epoch: 162 loss: 9.2570161819458\n",
      "epoch: 163 loss: 9.256999015808105\n",
      "epoch: 164 loss: 9.256982803344727\n",
      "epoch: 165 loss: 9.256967544555664\n",
      "epoch: 166 loss: 9.256953239440918\n",
      "epoch: 167 loss: 9.256938934326172\n",
      "epoch: 168 loss: 9.256925582885742\n",
      "epoch: 169 loss: 9.256913185119629\n",
      "epoch: 170 loss: 9.256900787353516\n",
      "epoch: 171 loss: 9.256887435913086\n",
      "epoch: 172 loss: 9.256875991821289\n",
      "epoch: 173 loss: 9.256864547729492\n",
      "epoch: 174 loss: 9.256854057312012\n",
      "epoch: 175 loss: 9.256843566894531\n",
      "epoch: 176 loss: 9.256834030151367\n",
      "epoch: 177 loss: 9.256824493408203\n",
      "epoch: 178 loss: 9.256815910339355\n",
      "epoch: 179 loss: 9.256806373596191\n",
      "epoch: 180 loss: 9.256797790527344\n",
      "epoch: 181 loss: 9.256790161132812\n",
      "epoch: 182 loss: 9.256782531738281\n",
      "epoch: 183 loss: 9.25677490234375\n",
      "epoch: 184 loss: 9.256768226623535\n",
      "epoch: 185 loss: 9.256760597229004\n",
      "epoch: 186 loss: 9.256753921508789\n",
      "epoch: 187 loss: 9.256747245788574\n",
      "epoch: 188 loss: 9.25674057006836\n",
      "epoch: 189 loss: 9.256734848022461\n",
      "epoch: 190 loss: 9.256730079650879\n",
      "epoch: 191 loss: 9.25672435760498\n",
      "epoch: 192 loss: 9.256718635559082\n",
      "epoch: 193 loss: 9.256712913513184\n",
      "epoch: 194 loss: 9.256709098815918\n",
      "epoch: 195 loss: 9.256704330444336\n",
      "epoch: 196 loss: 9.256699562072754\n",
      "epoch: 197 loss: 9.256695747375488\n",
      "epoch: 198 loss: 9.256690979003906\n",
      "epoch: 199 loss: 9.256688117980957\n"
     ]
    }
   ],
   "source": [
    "epochs = 200\n",
    "losses = []\n",
    "for i in range(epochs):\n",
    "    y_pred = model.forward(X)\n",
    "    loss = criterion(y_pred, y)\n",
    "    print(\"epoch:\", i, \"loss:\", loss.item())\n",
    "  \n",
    "    losses.append(loss)\n",
    "    optimizer.zero_grad()\n",
    "    loss.backward()\n",
    "    optimizer.step()"
   ]
  },
  {
   "cell_type": "code",
   "execution_count": 10,
   "metadata": {},
   "outputs": [
    {
     "data": {
      "text/plain": [
       "Text(0.5, 0, 'Epochs')"
      ]
     },
     "execution_count": 10,
     "metadata": {},
     "output_type": "execute_result"
    },
    {
     "data": {
      "image/png": "[encoded data removed]",
      "text/plain": [
       "<Figure size 432x288 with 1 Axes>"
      ]
     },
     "metadata": {
      "needs_background": "light"
     },
     "output_type": "display_data"
    }
   ],
   "source": [
    "plt.plot(range(epochs), losses)\n",
    "plt.ylabel('Loss')\n",
    "plt.xlabel('Epochs')"
   ]
  },
  {
   "cell_type": "code",
   "execution_count": 11,
   "metadata": {},
   "outputs": [
    {
     "data": {
      "image/png": "[encoded data removed]",
      "text/plain": [
       "<Figure size 432x288 with 1 Axes>"
      ]
     },
     "metadata": {
      "needs_background": "light"
     },
     "output_type": "display_data"
    }
   ],
   "source": [
    "plot_fit(\"Trained Model\")"
   ]
  },
  {
   "cell_type": "code",
   "execution_count": null,
   "metadata": {},
   "outputs": [],
   "source": []
  }
 ],
 "metadata": {
  "kernelspec": {
   "display_name": "Python 3",
   "language": "python",
   "name": "python3"
  },
  "language_info": {
   "codemirror_mode": {
    "name": "ipython",
    "version": 3
   },
   "file_extension": ".py",
   "mimetype": "text/x-python",
   "name": "python",
   "nbconvert_exporter": "python",
   "pygments_lexer": "ipython3",
   "version": "3.7.3"
  }
 },
 "nbformat": 4,
 "nbformat_minor": 2
}
